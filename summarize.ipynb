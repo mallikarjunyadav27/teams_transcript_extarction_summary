{
 "cells": [
  {
   "cell_type": "code",
   "execution_count": 5,
   "metadata": {},
   "outputs": [],
   "source": [
    "import docx\n",
    "\n",
    "def extract_text_from_docx(file_path):\n",
    "    doc = docx.Document(file_path)\n",
    "    full_text = []\n",
    "\n",
    "    for paragraph in doc.paragraphs:\n",
    "        full_text.append(paragraph.text)\n",
    "\n",
    "    return '\\n'.join(full_text)\n",
    "\n",
    "# Example usage\n",
    "file_path = 'Transcript_2023-09-27 (1).docx'\n",
    "extracted_text = extract_text_from_docx(file_path)\n",
    "#print(extracted_text)\n"
   ]
  },
  {
   "cell_type": "code",
   "execution_count": 6,
   "metadata": {},
   "outputs": [
    {
     "name": "stdout",
     "output_type": "stream",
     "text": [
      "sricharan amarnath like number test cases like basic injection sricharan amarnath happened sricharan amarnath uh know outcome high level insights right sricharan amarnath thats right rinisha ok sricharan amarnath finally use saying right sricharan amarnath also recommend also maybe recommendation take later right know summarizing testing attacks testing methodologies sricharan amarnath maybe could know showcase value later add ui top akash ambadas salmuthe basically dont like sricharan amarnath later 1st programmatically yeah sricharan amarnath exactly akash ambadas salmuthe uh passing one example akash ambadas salmuthe yeah sricharan amarnath one understand right one akash ambadas salmuthe yeah umm sricharan amarnath generic people understand need kind report right akash ambadas salmuthe ok sricharan amarnath need see sricharan amarnath hey ok sricharan amarnath lets say im developer developed tool give qa qa people test return sricharan amarnath return theyre gonna call showcase report right sricharan amarnath hey functionalities rinisha tested umm sricharan amarnath said yeah failed rinisha umm sricharan amarnath money passed ok two things fail give sample sricharan amarnath hey failed rinisha value bringing client sricharan amarnath validating prompt flows right 0128130 0128340qa rinisha umm sricharan amarnath whatever attacks mentioning failing math ingestion sricharan amarnath ok failing basic injection 0131720 013420a rinisha mz umm hmm sricharan amarnath failing rinisha umm sricharan amarnath change prompt like get outputs different way sricharan amarnath see security issue sricharan amarnath ok rinisha ok sricharan amarnath thats rinisha yeah rinisha yeah rinisha see care rinisha come possible attack types know come know test cases sricharan amarnath good sricharan amarnath exactly rinisha meaning attack type come prompts injected rinisha yeah rinisha yeah got rinisha got rinisha ok ok sir rinisha umm rinisha umm sure sricharan amarnath ok also define like either predefine prompts tested tested also provide configuration rinisha umm sricharan amarnath load another json file user define also like hey something wanted test also sricharan amarnath uh correct rinisha sure akash ambadas salmuthe yeah introduce system prompts default one also add users system prompt yeah got sricharan amarnath ok exactly sricharan amarnath way giving flexibility sricharan amarnath otherwise going hard coded templates along sricharan amarnath alright generating know akash ambadas salmuthe umm like closed source sricharan amarnath yeah rinisha say user friend client rinisha uh sricharan amarnath uh see comes tool im saying right youre generating suit rinisha umm sricharan amarnath means ok running suit test cases rinisha predefined test cases rinisha sure umm rinisha umm sricharan amarnath uh predefined test cases write new test cases also like know dynamically create new test cases add inside take test cases also run long run along rinisha umm ok akash ambadas salmuthe could privilege client also right sricharan amarnath yeah rinisha maybe said acceptance testing right sricharan amarnath 30 rinisha guess thats youre saying user give luxury adding prompts also sricharan amarnath got sricharan amarnath got sricharan amarnath exactly akash ambadas salmuthe umm rinisha ok sricharan amarnath uat thing would helpful rinisha good rinisha umm sricharan amarnath putting one slider let lets say wanted see like prompt testing validation going help ok high level like know uh lets say useful akash ambadas salmuthe mmhmm rinisha uh akash ambadas salmuthe umm rinisha akash ambadas salmuthe im working rinisha umm sricharan amarnath uh uh could useful capability bringing know putting a1 slider need think put like lets say lets start shape slide better ok put project sr capability ok accelerator kind thing right rinisha ok ok akash ambadas salmuthe sricharan amarnath something think putting creating deck rinisha yeah akash ambadas salmuthe rinisha yeah rinisha yeah thought one tool deck portray idea rinisha ok got sricharan amarnath right exactly exactly rinisha akash ambadas salmuthe actually yes getting one concern like whatever validating llm output akash ambadas salmuthe firstly need highlight input akash ambadas salmuthe concept saying like harnessing akash ambadas salmuthe limpet quarantine privilege akash ambadas salmuthe right sricharan amarnath yeah akash ambadas salmuthe used one quarantine akash ambadas salmuthe llm output like whatever output sricharan amarnath ok sricharan amarnath akash ambadas salmuthe generated like path right time pass privilege llm prompt akash ambadas salmuthe otherwise reject send message like whatever user answer like sricharan amarnath ok rinisha yeah sricharan amarnath also define deck like know validation input output like know input validation output validation rinisha umm sricharan amarnath uh define tested suite sricharan amarnath defined parameter akash ambadas salmuthe yeah yeah akash ambadas salmuthe yeah yeah sure rinisha akash show next sheet also maybe would sricharan amarnath ok rinisha prepared another sheet ok akash ambadas salmuthe yeah sricharan amarnath uh rinisha possible approaches take avoid rinisha know attacks one rinisha constitutionally ai rinisha anthrop rinisha akash ambadas salmuthe uh entropic entropic yes sricharan amarnath applicant rinisha anthropic anthropic rinisha yeah sricharan amarnath yeah akash ambadas salmuthe cloud 2 lord yeah rinisha come one ai right claudia something something similar akash ambadas salmuthe umm rinisha yeah rinisha rinisha umm ohh sricharan amarnath cloud cloud cloud cloud like similar turbo 35 cloud also yeah also good actually good model commercial side sricharan amarnath drawback rinisha yeah rinisha yeah rinisha theyre saying sricharan amarnath know know akash ambadas salmuthe actually uh entropic per knowledge collaborate like aws aws invested 4 billion yeah better obviously rinisha hmm sricharan amarnath theyre theyre bedrock right theyre theyre theyre bedrock still sricharan amarnath yeah think opening competitive sricharan amarnath bedrock good bedrock made like know kind bringing order bedrock akash ambadas salmuthe cannot use like india part world sricharan amarnath yeah akash ambadas salmuthe focusing europe us thats sricharan amarnath ok akash ambadas salmuthe like constitutional ai akash ambadas salmuthe like rinisha said write construction ai rinisha charan writing constitution meaning writing know set rules example anthropic akash ambadas salmuthe umm rinisha theyre theyre taking united nations rules would right betterment humanity sricharan amarnath uh rinisha taking technology thing taking license agreement apple ok sricharan amarnath uh rinisha would constitution rinisha training model top rinisha llm sricharan amarnath umm rinisha training rinisha llm top llm would able evaluate whether incoming prompt violating rules based constitution sricharan amarnath yeah understood sricharan amarnath understood akash ambadas salmuthe quarantine llm akash ambadas salmuthe yeah yeah yeah rinisha ohh rinisha rinisha sricharan amarnath something similar assume assures uh responsibly ok azure responsibly like high level thing high level meaning sricharan amarnath uh sricharan amarnath certain limit know akash ambadas salmuthe sricharan amarnath 60 securities put model cloud wanted check things sricharan amarnath cannot know sricharan amarnath yeah yeah sricharan amarnath correct sricharan amarnath exactly sricharan amarnath exactly akash ambadas salmuthe like transparency like fairness inclusiveness safety privacy broadband rinisha umm rinisha sure rinisha sricharan amarnath umm aspect things capture right else like know 1 aspect like every cloud provider going provide uh eventually end day like know open azure providing 1 even aws going provide one right default leverage put like good things add one way e sricharan amarnath check input going bigger problem right sricharan amarnath lucky akash ambadas salmuthe umm sricharan amarnath ok uh sricharan amarnath wanted differentiate sricharan amarnath capturing validating first shape 2nd sheet validating ok protecting youre know safeguarding rinisha umm rinisha umm sricharan amarnath ok lets say contest like constitutional means certain policies placed country level even generic level im going validate ok sricharan amarnath sricharan amarnath uh misusing rinisha yeah counterpart rlhf rinisha human feedback sricharan amarnath rinisha ai feedback trained constitution sricharan amarnath hmm ok rinisha yeah rinisha come pros cons though rinisha would cons rinisha see uh based constitution biased also biased akash ambadas salmuthe bias sense data trained like europe american legion work india akash ambadas salmuthe maybe rules cultures maybe beliefs may biased us nothing figment sricharan amarnath hmm ok rinisha think approaches rinisha would know helpful us case client engagements sricharan amarnath yeah sricharan amarnath yeah could useful right sricharan amarnath uh definitely would useful rinisha bring value approaches comes client work bring value things sricharan amarnath see correct need think use case something according like know lets say launching conversational ai chat bot public public one rinisha hmm sricharan amarnath ok public one uh ask properly responding opening differently going know big problem right sricharan amarnath launching public lets say uh example providing fake gene based chat bot app know sricharan amarnath uh customer support know putting global website website go somewhere sricharan amarnath ok log pepsico site ask questions sricharan amarnath secured way sricharan amarnath asked uh something related know sricharan amarnath uh policy wise funded like know sricharan amarnath promptly respond way stating know hey able answer type things sricharan amarnath cannot able answer rinisha hmm sricharan amarnath sricharan amarnath able capture tricking know chat board people still try break things right sricharan amarnath need figure sricharan amarnath like know track still going respond different way people trying always akash ambadas salmuthe yeah akash ambadas salmuthe actually always like sure right akash ambadas salmuthe know akash ambadas salmuthe yeah one sricharan amarnath hmm tablet akash ambadas salmuthe yeah actually examples cloud also rinisha umm akash ambadas salmuthe umm rinisha umm sricharan amarnath see whatever slide 2 slide 2 sheets put right able translate deck many texts akash ambadas salmuthe umm akash ambadas salmuthe uh like summarizing rinisha yeah sricharan amarnath high level like know nice box like know uh put flow chart type know pictorial representation right rinisha yeah good yeah sricharan amarnath put right get communicated people like know capabilities validating things ways right rinisha implemented right rinisha comes uh sricharan amarnath implemented see fine sricharan amarnath implemented get prepared sricharan amarnath ah correct yeah rinisha maybe poc said ok say areas trying poc sricharan amarnath yeah sricharan amarnath yeah rinisha hmm sricharan amarnath see part sricharan amarnath see always see see right uh company put rinisha ok sricharan amarnath ok whatever rinisha umm sricharan amarnath like know understanding outside try create pictorial representation figure like make work rinisha umm sricharan amarnath put ok website climb sricharan amarnath ok climate sense sricharan amarnath ok know rinisha alright sricharan amarnath theyre theyre theyll reach theyre sricharan amarnath theyre going come query slowly looking rinisha umm hmm rinisha umm sricharan amarnath catch attention cache hey something wanted test sricharan amarnath tell rinisha umm sricharan amarnath propose hey process sricharan amarnath lets lets first discuss sricharan amarnath lets get sign ndas rinisha umm sricharan amarnath well go next steps well kind know understand requirement rinisha kind marketing rinisha umm ok rinisha yeah sricharan amarnath time get requirements poc back end ok see right dont know sricharan amarnath ohh business case test generic way rinisha alright umm rinisha sricharan amarnath testing get know proper use case rinisha umm sricharan amarnath get cannot go talk clients say tell us rinisha umm rinisha ok sricharan amarnath business use case unless go connect whatever existing team connecting umg theyll give rinisha give real time sricharan amarnath uh sricharan amarnath correct rinisha yeah use case ok rinisha sure rinisha sure sricharan amarnath going take time uh go websites websites people putting like people putting hey solve security rinisha umm sricharan amarnath practice way governing way trying know focus areas trying achieve way thats going project akash ambadas salmuthe like uh like generalized form might giving us much value decided scope like akash ambadas salmuthe akash ambadas salmuthe decided decided act like meditation board akash ambadas salmuthe meditation directly set rules akash ambadas salmuthe limit scope focus sricharan amarnath akash ambadas salmuthe value generate value uh instead going like globally become centralized per use cases akash ambadas salmuthe uhhuh sricharan amarnath see guess going put technical aspect slide sricharan amarnath ok akash ambadas salmuthe ok ok akash ambadas salmuthe sricharan amarnath slide wise high level ok difference even people dont know sricharan amarnath test test akash ambadas salmuthe umm akash ambadas salmuthe umm akash ambadas salmuthe ok akash ambadas salmuthe ok ok akash ambadas salmuthe umm sricharan amarnath ok understand hey test know things like test like help tools test generate report capabilities understanding way like know input output validate also responsible lay privacy policies validate time prompt validations validate inner data validations akash ambadas salmuthe umm rinisha umm sricharan amarnath way know capabilities tested like life cycle go enterprise level like gonna state high level points thats ok rinisha ok sricharan amarnath define like itll give rinisha translate deck ok sricharan amarnath correct rinisha im presentable deck rinisha got sricharan amarnath exactly yeah rinisha apart think ok 1 testing tool one presentation one poc right rinisha guess poc constitutionally right might make sense comes specific client youre mean fine tuning llm specific client domain data right rinisha happens client would like apples would set license agreement set rules rinisha constitution know train right rinisha maybe umm rinisha attract clients right rinisha ok kind approach going safeguard data llm rinisha would one potential poc area guess rinisha think sricharan amarnath yeah sricharan amarnath yeah definitely yeah rinisha ok akash ambadas salmuthe questions like suggested akash ambadas salmuthe uh reboot right akash ambadas salmuthe actually tried wont able connect like playground akash ambadas salmuthe tried 23 api provided akash ambadas salmuthe one said like exhausted makes tries rinisha yeah geddam noticed rebug rinisha yeah good work know rinisha yeah akash ambadas salmuthe alpha stage actually even beta akash ambadas salmuthe might like development stage early development stage akash ambadas salmuthe yeah like yeah went akash ambadas salmuthe nothing dedicated right quarantine akash ambadas salmuthe llm check akash ambadas salmuthe hello sricharan amarnath yeah akash ambadas salmuthe ok sricharan amarnath sorry kind lost moment rinisha ok akash ambadas salmuthe ok sricharan amarnath akash ambadas salmuthe yeah sricharan amarnath come back moment please akash ambadas salmuthe actually like looking like river playground sricharan amarnath yeah akash ambadas salmuthe help us stage akash ambadas salmuthe say like understand things like full ways like system roles constitution sricharan amarnath yeah akash ambadas salmuthe say comes llm akash ambadas salmuthe check quarantine akash ambadas salmuthe llm dedicated llm didnt mention llm using custom tune defined tuned directly use like validation llm never mentioned another like vector db check didnt get much idea one akash ambadas salmuthe like output testing akash ambadas salmuthe maybe input output relation mapping context mapping interment akash ambadas salmuthe didnt get one users think yeah three chicks rinisha mentioned rebirth one slides rinisha right akash ambadas salmuthe yeah sricharan amarnath correct correct sricharan amarnath yeah rinisha try explore looks like matured framework rinisha yeah ohh rinisha umm sricharan amarnath yeah matured even ibm client asking ok anything show three buff akash ambadas salmuthe yeah uh akash ambadas salmuthe like another uh report like akash ambadas salmuthe prompt actually already test test generally use like akash ambadas salmuthe ohh cases like uh production either two days ago sricharan amarnath umm rinisha ohh sricharan amarnath ah see akash ambadas salmuthe good one generally works like output sricharan amarnath ok something cool right sricharan amarnath rinisha want rinisha ok ok sricharan amarnath yeah want want ship akash ambadas salmuthe like saying like report generation like sricharan amarnath correct akash ambadas salmuthe question akash ambadas salmuthe pass fail like ok rinisha umm sricharan amarnath yeah exactly sricharan amarnath rinisha ok prompt ok akash ambadas salmuthe prompt actually like due kind things sricharan amarnath yeah akash ambadas salmuthe output level llm output akash ambadas salmuthe uh validation sricharan amarnath see akash ambadas salmuthe yeah akash ambadas salmuthe umm mmhmm sricharan amarnath fine someone already done leverage try create generic one generic one akash ambadas salmuthe uh like npx maybe react node js app akash ambadas salmuthe think sricharan amarnath react right akash ambadas salmuthe yeah sricharan amarnath fine sricharan amarnath people know uh change react js code right sricharan amarnath team right akash ambadas salmuthe ok ok sricharan amarnath everyone team akash ambadas salmuthe yeah input level thats rinisha also output level input level different rinisha llm response level rinisha looking prompt level right sricharan amarnath yeah rinisha ok umm sricharan amarnath capabilities ok fine sricharan amarnath settings maybe generate select based navigations select wanna validate generate report based output input rinisha sricharan amarnath based selections generate report sricharan amarnath thats rinisha ok rinisha got yeah akash ambadas salmuthe ohh also share one rinisha ok sricharan amarnath ok yeah akash ambadas salmuthe next focus akash ambadas salmuthe proceed things rinisha yeah akash ambadas salmuthe umm rinisha charan mentioned focus testing suit know come slides better presentation know translate whatever given excel ppt akash ambadas salmuthe umm rinisha ok charan another thing currently focused thing rinisha umm ohh rinisha check shipyard rinisha uh work sricharan amarnath ok rinisha ok bp order automation also right sricharan amarnath rinisha take one akash take another one apart concentrated higher bot also sricharan amarnath yeah rinisha maybe couple days create api sricharan amarnath ok rinisha know matching service evaluated llama index also sricharan amarnath ok sricharan amarnath yeah rinisha ok last couple days know tried know used llama index mentioned article saying better searching indexing right sricharan amarnath correct rinisha noticed see framework right underdeveloped sricharan amarnath uh rinisha lot low level coding see lang chain already know tons high level coding high level components already created rinisha example metadata tagging right rinisha llama index option even working perfectly rinisha sit know know prompting everything rinisha langchain everything already sricharan amarnath ok rinisha noticed see github community llama index uh rinisha open akash llama index lunch change see contributors releases everything right rinisha llama index lang chain 5 times bigger llama index fastly growing rinisha think would maybe overpass llama index also maybe days akash ambadas salmuthe llama index one rinisha thats think per github github laminex github rinisha contributes contribution much lang chain rinisha thats thought ok ill go ahead langchain know lot low level coding rinisha ok around 300 sricharan amarnath one second one second sricharan amarnath give one second rinisha ok sricharan amarnath texting pepsico team second rinisha dont rinisha scroll showed contributors ok akash ambadas salmuthe looking much one 15 language rinisha uh rinisha used one llama index rinisha many used bike rinisha yeah 20 akash ambadas salmuthe ohh like contributor akash ambadas salmuthe noise better release rinisha 21000 stars rinisha rinisha golla akash ambadas salmuthe maybe like uh63 rinisha umm rinisha ok rinisha ill kash close call concluding akash ambadas salmuthe umm ok popular rinisha ok dont know would client related work akash ambadas salmuthe ok sure akash ambadas salmuthe know need leave please rinisha yeah mean conclude well akash ambadas salmuthe show money akash ambadas salmuthe tonight rinisha rinisha went akash ambadas salmuthe something rinisha mean go go recording akash ambadas salmuthe yeah actually uh use one yesterday akash ambadas salmuthe happened rinisha hmm akash ambadas salmuthe one like cheap one like said vinayak guy akash ambadas salmuthe watching video come like working rinisha hmm akash ambadas salmuthe told get circuit decision recording rinisha also office rinisha ok rinisha guys sitting close akash ambadas salmuthe im going ai actually come come office uh repairing laptop rinisha ok ok rinisha ok got akash ambadas salmuthe told like hes also working akash ambadas salmuthe another like shubham akash ambadas salmuthe also working rinisha ok ok akash ambadas salmuthe akash ambadas salmuthe yeah rinisha ok go recording ok go ibp recording also akash ambadas salmuthe ok rinisha two things rinisha one order automation one ub akash ambadas salmuthe mmhmm rinisha ok one focus one thing know come generative ai capabilities rinisha ok yeah rinisha uh sent mail rinisha access akash ambadas salmuthe yeah actually think uh rinisha allocate least 10 every day work akash ambadas salmuthe umm rinisha ok security akash ambadas salmuthe mmhmm sricharan amarnath yeah rinisha everything ok maybe close ohh one gotcha rinisha yeah sricharan amarnath come back rinisha charan conclude call sricharan amarnath ok rinisha yeah call yeah got point youre looking rinisha work sricharan amarnath yeah rinisha im saying know targeted check work also sricharan amarnath yeah rinisha parallelly maybe daily 10 know spend security area also try close couple weeks rinisha yeah akash ambadas salmuthe yeah sricharan amarnath first first could know deck add know offering decks somewhere sricharan amarnath ok akash ambadas salmuthe umm rinisha umm sricharan amarnath last add sricharan amarnath know template add things ill ill give reference like slowly add rinisha ok rinisha ok rinisha yeah got yeah rinisha yeah sricharan amarnath post lunch rinisha thats ok rinisha umm sricharan amarnath maybe connect deck reference like run things like rinisha ok rinisha got yeah sricharan amarnath thanks rinisha yeah rinisha ok john rinisha thank rinisha thanks time sricharan amarnath sometimes study solution akash ambadas salmuthe yeah akash ambadas salmuthe thank much rinisha thank bye akash ambadas salmuthe uh rinisha await rinisha yeah yeah akash ambadas salmuthe yeah akash ambadas salmuthe saying like 10 whatever llm akash ambadas salmuthe security right rinisha umm yeah umm akash ambadas salmuthe akash ambadas salmuthe rinisha thats akash ambadas salmuthe yeah rinisha yeah rinisha akash ambadas salmuthe chip akash ambadas salmuthe uh check thing rinisha remaining 90 akash ambadas salmuthe ok ok rinisha ok thing right akash ambadas salmuthe yeah need rinisha maybe concerned ppd would helpful showcase clients right akash ambadas salmuthe umm rinisha prepare ppd maybe couple days ok akash ambadas salmuthe umm rinisha come draft whatever point given excel right rinisha come draft also accept rinisha give suggestion also get reference akash ambadas salmuthe umm rinisha ok called llm rinisha testing alm security approaches ok akash ambadas salmuthe umm rinisha two areas finalized case akash ambadas salmuthe know like rinisha lm testing elems office testing rinisha maybe friday rinisha ohh monday come ppt right akash ambadas salmuthe umm akash ambadas salmuthe yeah rinisha translate come boxes rinisha yeah akash ambadas salmuthe boxes relevant images presentation rinisha see rinisha ok use like sorry hear akash ambadas salmuthe umm rinisha akash ambadas salmuthe ok rinisha yeah services ok would help us prepare presentation rinisha feed content rinisha come presentation akash ambadas salmuthe ok akash ambadas salmuthe ok need check one rinisha yeah yeah going save time rinisha ok rinisha lets ok ohd remember dont remember name check rinisha ok going help us akash ambadas salmuthe ok rinisha anyway generic content right akash ambadas salmuthe yeah rinisha going cause confidentiality issue akash ambadas salmuthe anything specific till yeah rinisha yeah come diagrams akash ambadas salmuthe mmhmm rinisha dont make head ok check rinisha ok rinisha gosh yeah rinisha thank akash ambadas salmuthe ok rinisha thanks bye akash ambadas salmuthe thank much\n"
     ]
    }
   ],
   "source": [
    "import re\n",
    "import string\n",
    "from nltk.corpus import stopwords\n",
    "\n",
    "text = extracted_text \n",
    "# Function to preprocess text\n",
    "def chat_conversation(text):\n",
    "    # Remove timestamps\n",
    "    text = re.sub(r'\\d+:\\d+:\\d+\\.\\d+ --> \\d+:\\d+:\\d+\\.\\d+\\n', '', text)\n",
    "    # Remove special characters and digits\n",
    "    text = re.sub(r'[^\\w\\s]', '', text)\n",
    "    # Convert to lowercase\n",
    "    text = text.lower()\n",
    "    # Remove stopwords\n",
    "    stop_words = set(stopwords.words('english'))\n",
    "    words = text.split()\n",
    "    filtered_words = [word for word in words if word not in stop_words]\n",
    "    return ' '.join(filtered_words)\n",
    "\n",
    "# Preprocess the text\n",
    "chat_conversation = chat_conversation(text)\n",
    "print(chat_conversation)\n"
   ]
  },
  {
   "cell_type": "code",
   "execution_count": 35,
   "metadata": {},
   "outputs": [
    {
     "name": "stdout",
     "output_type": "stream",
     "text": [
      "Minutes of meeting held between Sricharan Amarnath, Rinisha, Venkata Ravi Rajkumar Sonti, Nisam Mudheen, Eswar Poluri, and Akash Ambadas Salmuthe on an unspecified date:\n",
      "\n",
      "- Sricharan Amarnath discussed a potential new client who needs help with document extraction, specifically with bank forms and handwritten text.\n",
      "- The client wants to achieve at least 75-80% accuracy in extracting information from the documents.\n",
      "- Two use cases were identified: board meeting documents and bank checks.\n",
      "- The team discussed the challenges of extracting information from different document templates and the need for accuracy in capturing key fields.\n",
      "- The team considered using OCR services like Google OCR and Azure OCR, as well as open-source solutions like Tesseract.\n",
      "- Another use case was discussed regarding labeling and validation of product artwork and nutritional labels.\n",
      "- The team agreed to explore different OCR models and conduct a comparative study to evaluate their accuracy.\n",
      "- A discussion on creating a generalized model for document extraction and the complexities involved took place.\n",
      "- The team agreed to create a hybrid solution using both ML models and rule-based approaches.\n",
      "- The team discussed the need for a dedicated annotation team for labeling and validating data.\n",
      "- It was decided to propose a plan involving data scientists and data engineers for the project.\n",
      "- The team agreed to share sample documents and explore open-source datasets for training and testing models.\n",
      "- The possibility of using AI models like Hugging Face and Paddle OCR was also discussed.\n",
      "- The team decided to benchmark different OCR models and determine their accuracy and performance.\n",
      "- It was agreed to create a solution with a layered architecture that allows for quick updates and continuous improvement.\n",
      "- The team discussed the need for a support team for bug fixing and maintenance post-production.\n",
      "- The team discussed the possibility of using open-source OCR models and creating a matrix for benchmarking.\n",
      "- Different OCR tools and services such as Google OCR, Azure Form Recognizer, and Amazon Recognition were considered.\n",
      "- The team agreed to address different use cases and document types, including handwritten text and complex layouts.\n",
      "- It was decided to share resources and conduct experiments to determine the most effective solution for each use case.\n",
      "- Akash Ambadas Salmuthe agreed to provide sample templates and explore Hugging Face models.\n",
      "- The team agreed to connect separately to discuss further details and progress on the project.\n"
     ]
    }
   ],
   "source": [
    "import openai\n",
    "\n",
    "prompt = f\"\"\"ChatGPT, summarize the following conversation among multiple people in the chat. Extract the key points, main topics, and any important\n",
    "decisions made during the discussion. Disregard timestamps and focus only on the text content of the conversation. provide the summary in bullet points.\n",
    "Also mention in the starting of message as \"minutes of meeting held between (mention member names) held on (date).\"\"\" + chat_conversation\n",
    "\n",
    "# Set your OpenAI API key here\n",
    "openai.api_key = \"0eb4ce717f404f66b70f809817ebd172\"\n",
    "openai.api_type = \"azure\"\n",
    "openai.api_base = \"https://rtappopenai.openai.azure.com/\"\n",
    "openai.api_version = \"2023-07-01-preview\"\n",
    "# Extracted text from the DOCX file\n",
    "#extracted_text = \"Your extracted text goes here...\"\n",
    "\n",
    "# Generate a summary using OpenAI API\n",
    "response = openai.ChatCompletion.create(\n",
    "    deployment_id=\"gpt-35-turbo-16k\",\n",
    "    #prompt=prompt,\n",
    "    messages = [{\"role\":\"user\",\"content\":prompt}]\n",
    ")\n",
    "print(response.choices[0]['message'][\"content\"]\n",
    ")\n",
    "\n"
   ]
  },
  {
   "cell_type": "code",
   "execution_count": 10,
   "metadata": {},
   "outputs": [
    {
     "name": "stdout",
     "output_type": "stream",
     "text": [
      "ROUGE Scores:\n",
      "ROUGE-1: 0.9549549499651003\n",
      "ROUGE-2: 0.9562841480150199\n",
      "ROUGE-L: 0.9549549499651003\n"
     ]
    }
   ],
   "source": [
    "from rouge import Rouge\n",
    "\n",
    "# Generated summary\n",
    "generated_summary = \"\"\"Minutes of meeting held between Sricharan Amarnath, Rinisha, and Akash Ambadas Salmuthe on an unspecified date:\n",
    "\n",
    "- Sricharan and Rinisha discuss the importance of testing and showcasing value in testing methodologies.\n",
    "- Akash suggests programmatically passing examples to understand the value of prompt testing.\n",
    "- They discuss the need for generating a report to showcase the testing outcomes.\n",
    "- They talk about the importance of testing for security issues and different types of attacks.\n",
    "- They mention the possibility of introducing system prompts and allowing users to define prompts.\n",
    "- They discuss the concept of a \"constitution\" in AI and the need for responsible AI.\n",
    "- Sricharan suggests the idea of a \"validation deck\" to present testing capabilities.\n",
    "- They discuss the idea of a generative AI and the potential use cases.\n",
    "- The conversation shifts to discussions about the underdeveloped framework of Llama Index and the availability of better options like LangChain.\n",
    "- They agree to allocate time for security testing and work on order automation.\n",
    "- Rinisha suggests creating a presentation and a Proof of Concept (POC) in a generic format.\n",
    "- They conclude the meeting with a plan to create a draft presentation and discuss it on a later date.\n",
    "\n",
    "Note: The conversation was not very clear, and there are several sections with incomplete sentences and unclear context.\"\"\"\n",
    "\n",
    "# Reference summary (expected summary)\n",
    "reference_summary = \"\"\"- Sricharan and Rinisha discuss the importance of testing and showcasing value in testing methodologies.\n",
    "- Akash suggests programmatically passing examples to understand the value of prompt testing.\n",
    "- They discuss the need for generating a report to showcase the testing outcomes.\n",
    "- They talk about the importance of testing for security issues and different types of attacks.\n",
    "- They mention the possibility of introducing system prompts and allowing users to define prompts.\n",
    "- They discuss the concept of a \"constitution\" in AI and the need for responsible AI.\n",
    "- Sricharan suggests the idea of a \"validation deck\" to present testing capabilities.\n",
    "- They discuss the idea of a generative AI and the potential use cases.\n",
    "- The conversation shifts to discussions about the underdeveloped framework of Llama Index and the availability of better options like LangChain.\n",
    "- They agree to allocate time for security testing and work on order automation.\n",
    "- Rinisha suggests creating a presentation and a Proof of Concept (POC) in a generic format.\n",
    "- They conclude the meeting with a plan to create a draft presentation and discuss it on a later date.\n",
    "\n",
    "Note: The conversation was not very clear, and there are several sections with incomplete sentences and unclear context.\"\"\"\n",
    "\n",
    "# Initialize Rouge object\n",
    "rouge = Rouge()\n",
    "\n",
    "# Calculate Rouge scores\n",
    "scores = rouge.get_scores(generated_summary, reference_summary)\n",
    "#print(scores)\n",
    "\n",
    "# Print Rouge scores\n",
    "print(\"ROUGE Scores:\")\n",
    "print(f\"ROUGE-1: {scores[0]['rouge-1']['f']}\")\n",
    "print(f\"ROUGE-2: {scores[0]['rouge-2']['f']}\")\n",
    "print(f\"ROUGE-L: {scores[0]['rouge-l']['f']}\")\n"
   ]
  },
  {
   "cell_type": "code",
   "execution_count": 14,
   "metadata": {},
   "outputs": [],
   "source": [
    "prompt = f\"\"\"\n",
    "\"ChatGPT, summarize the following conversation among multiple people in the chat. Extract the key points, main topics, and any important decisions made during the discussion. Disregard timestamps and focus only on the text content of the\n",
    " conversation. provide the summary in bullet points. Also mention in the starting of message as \"minutes of meeting held between (mention member names) held on (date).\"\"\" + chat_conversation"
   ]
  },
  {
   "cell_type": "code",
   "execution_count": 18,
   "metadata": {},
   "outputs": [],
   "source": [
    "prompt = f\"\"\"you are a minute-taker who takes Minutes of meeting note in meeting. give me MOM for this meeting. Dont hallucinate if you don't know or take it from your previous training data. correct the spelling mistakes. include time if they talked about project deadlines.\"\"\"+ chat_conversation"
   ]
  },
  {
   "cell_type": "code",
   "execution_count": 28,
   "metadata": {},
   "outputs": [
    {
     "name": "stdout",
     "output_type": "stream",
     "text": [
      "Attendees: sricharan amarnath, rinisha, venkata ravi rajkumar sonti, nisam mudheen, eswar poluri, akash ambadas salmuthe\n",
      "\n",
      "Meeting notes and decisions:\n",
      "- The team has worked on a project in the banking sector in the past and wants to explore handwritten document extraction.\n",
      "- They are discussing two use cases: 1) extracting information from board meeting memos that are filled out manually and 2) extracting information from bank forms, such as checks and loan applications.\n",
      "- They want to achieve at least 75-70% accuracy in extracting handwritten text.\n",
      "- They are considering using cloud services like Google OCR or Azure OCR for text extraction.\n",
      "- They want to create a small demo to showcase the capabilities of the solution, such as extracting information from internal documents and quickly validating product labels.\n",
      "- They discussed the challenges of extracting information from complex templates and the need for a hybrid approach that combines OCR with intelligence to understand the context of the text.\n",
      "- They talked about the possibility of using open-source models like Tesseract or exploring cloud-based solutions like AWS and Google OCR.\n",
      "- They discussed the need for a dedicated team for data annotation and support during the production phase.\n",
      "- The team will explore different OCR tools and compare their performance using sample documents.\n",
      "- They will create metrics to evaluate the performance of the OCR models and document their findings.\n",
      "- They will also consider other factors such as cost and scalability when choosing OCR solutions.\n",
      "- They will work on creating a pipeline to extract information from different types of documents and customize it based on specific business use cases.\n",
      "- They will share template examples and explore methodologies to extract information from different types of documents.\n",
      "- They will connect separately to discuss the details of each use case and divide the tasks among team members.\n"
     ]
    }
   ],
   "source": [
    "import openai\n",
    "prompt = f\"\"\" forget our previous conversation,ChatGPT, following text is a conversation among multiple people in a meeting on the topic of \"Handwritten POC\". summarize the conversation by Extracting the key points, main topics, any important decisions, acion items made during the discussion. Don't hallucinate if you have not understood the conversation. correct the spelling mistakes. avoid repeating same points. Extract the information in the following format\n",
    "\"Attendees: (mention member names in camelcase),Meeting notes and decisions: (give summary in bulletins without missing any important keypoints)\"\"\"+ chat_conversation\n",
    "# Set your OpenAI API key here\n",
    "openai.api_key = \"0eb4ce717f404f66b70f809817ebd172\"\n",
    "openai.api_type = \"azure\"\n",
    "openai.api_base = \"https://rtappopenai.openai.azure.com/\"\n",
    "openai.api_version = \"2023-07-01-preview\"\n",
    "# Extracted text from the DOCX file\n",
    "#extracted_text = \"Your extracted text goes here...\"\n",
    "\n",
    "# Generate a summary using OpenAI API\n",
    "response = openai.ChatCompletion.create(\n",
    "    deployment_id=\"gpt-35-turbo-16k\",\n",
    "    #prompt=prompt,\n",
    "    messages = [{\"role\":\"user\",\"content\":prompt}]\n",
    ")\n",
    "print(response.choices[0]['message'][\"content\"]\n",
    ")\n",
    "\n"
   ]
  }
 ],
 "metadata": {
  "kernelspec": {
   "display_name": "trans_venv",
   "language": "python",
   "name": "python3"
  },
  "language_info": {
   "codemirror_mode": {
    "name": "ipython",
    "version": 3
   },
   "file_extension": ".py",
   "mimetype": "text/x-python",
   "name": "python",
   "nbconvert_exporter": "python",
   "pygments_lexer": "ipython3",
   "version": "3.8.0"
  },
  "orig_nbformat": 4
 },
 "nbformat": 4,
 "nbformat_minor": 2
}
