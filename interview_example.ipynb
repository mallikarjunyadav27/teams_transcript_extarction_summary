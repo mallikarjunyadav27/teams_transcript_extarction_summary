{
 "cells": [
  {
   "cell_type": "code",
   "execution_count": 1,
   "metadata": {},
   "outputs": [],
   "source": [
    "import docx\n",
    "\n",
    "def extract_text_from_docx(file_path):\n",
    "    doc = docx.Document(file_path)\n",
    "    full_text = []\n",
    "\n",
    "    for paragraph in doc.paragraphs:\n",
    "        full_text.append(paragraph.text)\n",
    "\n",
    "    return '\\n'.join(full_text)\n",
    "\n",
    "# Example usage\n",
    "file_path = 'Transcript_Interview.docx'\n",
    "extracted_text = extract_text_from_docx(file_path)\n",
    "#print(extracted_text)\n"
   ]
  },
  {
   "cell_type": "code",
   "execution_count": 2,
   "metadata": {},
   "outputs": [
    {
     "name": "stdout",
     "output_type": "stream",
     "text": [
      "mallikarjun yadav etaboina yeah mallikarjun yadav etaboina hi nithin makkina 001910 001370 nithin makkina 5 minutes dont introduce yes mallikarjun yadav etaboina like yeah mallikarjun yadav etaboina name cajun im hyderabad mallikarjun yadav etaboina like 2 years experience machine learning kind stuff like data scientist mallikarjun yadav etaboina presently im working randomly know internship experience also mallikarjun yadav etaboina wouldnt bother running mallikarjun yadav etaboina run ml bh js projects mallikarjun yadav etaboina like experience cloud technologies also mallikarjun yadav etaboina like way direction mallikarjun yadav etaboina yeah thanks nithin makkina ok nithin makkina youre saying basic knowledge machine learning right mallikarjun yadav etaboina yeah nithin makkina ok nithin makkina ill start basic questions nithin makkina machine learning mallikarjun yadav etaboina like said language nothing subset like artificial intelligent intelligence involves development algorithms statistical models enables computer improve performance specific task learning data mallikarjun yadav etaboina without explicitly programmed yeah nithin makkina ok main types machine learning mallikarjun yadav etaboina like like 3 main types machine learning mallikarjun yadav etaboina one supervised learning unsupervised learning reinforcement learning mallikarjun yadav etaboina supervise comes algorithm trained labeled data mallikarjun yadav etaboina mallikarjun yadav etaboina input output provided algorithm learns map input output mallikarjun yadav etaboina unsupervised comes training unlabeled data tries learn patterns data structures data without supervision mallikarjun yadav etaboina reinforcement nothing learns make decisions interacting environment achieve maximum like maximum cumulative rewards nithin makkina ok nithin makkina elaborate difference overfitting underfitting mallikarjun yadav etaboina yeah overfitting nothing occurs mainly model learns training data well like mallikarjun yadav etaboina training data includes like noisy like outliers may lead poor performance model unseen data mallikarjun yadav etaboina fitting nothing happens mallikarjun yadav etaboina happens model simple less data mallikarjun yadav etaboina try train something like patterns data lead poor performance training unseen data yeah nithin makkina right nithin makkina uh define cross validation mallikarjun yadav etaboina yeah like cross validation use machine learning concepts mallikarjun yadav etaboina mallikarjun yadav etaboina statistical concept technique mallikarjun yadav etaboina whichever machine learning models dividing data set subsets like training test like model training subsets tested remaining data mallikarjun yadav etaboina process repeated multiple times different subset mallikarjun yadav etaboina average performance matrix used access model quality mallikarjun yadav etaboina cross validation check model performance dividing data subsets well using average performance well finalizing things mallikarjun yadav etaboina goes relation nithin makkina right nithin makkina uh know bias variance tradeoff mallikarjun yadav etaboina yeah like bias mallikarjun yadav etaboina using machine learning mallikarjun yadav etaboina tradeoff balance model model ability capture underlining pattern data mallikarjun yadav etaboina us sensitivity fluctuations training data mallikarjun yadav etaboina high bias model simplistic learning underfit leading underfit high variance mallikarjun yadav etaboina model fits training data slowly closely leading overfitting mallikarjun yadav etaboina whole like find model complexity maximize bias variance optimal predictive performance unseen data nithin makkina office feature regeneration mallikarjun yadav etaboina feature one important concept machine learning pipeline mallikarjun yadav etaboina feature using nothing selecting uh selecting column names transforming creating relevant features like features mallikarjun yadav etaboina nothing variables raw data improve performance machine learning mallikarjun yadav etaboina good feature engineering mallikarjun yadav etaboina lead model good model learn patterns make accurate predictions mallikarjun yadav etaboina yeah change feature engineering get good performance model want bad like using feature engineering yeah nithin makkina difference bagging boosting mallikarjun yadav etaboina yeah bagging something mallikarjun yadav etaboina also got bootstrap aggregating involves mainly certain training multiple instances learning algorithms different subset training data mallikarjun yadav etaboina like sample replacement average predictions random main popular bagging algorithm machine learning boosting focus like multiple instances algorithm sequentially mallikarjun yadav etaboina whereas new model correct errors made previous one final prediction weighted sum individual model prediction example adapa boosting gradient boosting nithin makkina deep learning mallikarjun yadav etaboina yeah deep learning subset machine learning deals neural networks contain many layers like deep neural networks mallikarjun yadav etaboina networks capable learning complex patterns large amount data mallikarjun yadav etaboina deep learning successfully tasks image speech recognition due ability automatically learns hierarchical features data nithin makkina like uh cat explain activation functions neural networks mallikarjun yadav etaboina activation function uh used nonlinearities neural networks allowing like allow learn complex patterns mallikarjun yadav etaboina common activation function includes sigmoid sigmoid reload tan chen softmax mallikarjun yadav etaboina sigma like mail maps input values range zero one hold mallikarjun yadav etaboina backward propagation neural networks mallikarjun yadav etaboina change values changes value zero one output reload output outputs input directly positive otherwise output 0 tannage maps input value range minus one place one softmax used multiclass classification problems converts raw score probabilities nithin makkina explain gradient descent mallikarjun yadav etaboina gradient descent optimization like optimizing technical algorithm mallikarjun yadav etaboina maximize cost function machine learning work late working mallikarjun yadav etaboina work moving directions like steepest degrees cost function mallikarjun yadav etaboina respect model proper parameter process repeated another converge minimum like reached global minima mallikarjun yadav etaboina resulting best fitted model parameter yeah mallikarjun yadav etaboina thanks till dont nithin makkina ok nithin makkina ill nithin makkina actually nithin makkina ok nithin makkina well get back mallikarjun yadav etaboina yeah mallikarjun yadav etaboina yeah nithin makkina thank mallikarjun yadav etaboina thank mallikarjun yadav etaboina thank yeah\n"
     ]
    }
   ],
   "source": [
    "import re\n",
    "import string\n",
    "from nltk.corpus import stopwords\n",
    "\n",
    "text = extracted_text \n",
    "# Function to preprocess text\n",
    "def chat_conversation(text):\n",
    "    # Remove timestamps\n",
    "    text = re.sub(r'\\d+:\\d+:\\d+\\.\\d+ --> \\d+:\\d+:\\d+\\.\\d+\\n', '', text)\n",
    "    # Remove special characters and digits\n",
    "    text = re.sub(r'[^\\w\\s]', '', text)\n",
    "    # Convert to lowercase\n",
    "    text = text.lower()\n",
    "    # Remove stopwords\n",
    "    stop_words = set(stopwords.words('english'))\n",
    "    words = text.split()\n",
    "    filtered_words = [word for word in words if word not in stop_words]\n",
    "    return ' '.join(filtered_words)\n",
    "\n",
    "# Preprocess the text\n",
    "chat_conversation = chat_conversation(text)\n",
    "print(chat_conversation)\n"
   ]
  },
  {
   "cell_type": "code",
   "execution_count": 3,
   "metadata": {},
   "outputs": [],
   "source": [
    "prompt = f\"\"\"ChatGPT, Give me the Information of interview on conversation  which include Candidate Name, Recruiter Name, Job Title, Job Level, Recommendation, Summary Justification, Candidate Background, Interview questions and answers with scores from 1 to 5 for each Answers in json format, And Feedback of candidate.\"\"\"+ chat_conversation"
   ]
  },
  {
   "cell_type": "code",
   "execution_count": 4,
   "metadata": {},
   "outputs": [
    {
     "name": "stdout",
     "output_type": "stream",
     "text": [
      "{\n",
      "  \"CandidateName\": \"Mallikarjun Yadav Etaboina\",\n",
      "  \"RecruiterName\": \"Nithin Makkina\",\n",
      "  \"JobTitle\": \"Data Scientist\",\n",
      "  \"JobLevel\": \"Experienced\",\n",
      "  \"Recommendation\": \"Yes\",\n",
      "  \"SummaryJustification\": \"Mallikarjun Yadav Etaboina has a background in machine learning with 2 years of experience. He has worked on both machine learning and cloud technologies. He demonstrated good knowledge of machine learning concepts and performed well in the interview. The candidate has the potential to excel in the role of Data Scientist.\",\n",
      "  \"CandidateBackground\": \"Mallikarjun Yadav Etaboina has 2 years of experience in machine learning and has worked on various projects, including an internship. He has experience in running machine learning and JavaScript projects and is comfortable with cloud technologies.\",\n",
      "  \"InterviewQuestionsAndAnswersWithScores\": [\n",
      "    {\n",
      "      \"Question\": \"What are the main types of machine learning?\",\n",
      "      \"Answer\": \"Supervised learning, unsupervised learning, and reinforcement learning.\",\n",
      "      \"Score\": 5\n",
      "    },\n",
      "    {\n",
      "      \"Question\": \"Explain the difference between overfitting and underfitting.\",\n",
      "      \"Answer\": \"Overfitting occurs when the model learns the training data too well, including noisy outliers, leading to poor performance on unseen data. Underfitting happens when the model is too simple and fails to capture patterns in the data, also leading to poor performance on unseen data.\",\n",
      "      \"Score\": 4\n",
      "    },\n",
      "    {\n",
      "      \"Question\": \"Define cross-validation.\",\n",
      "      \"Answer\": \"Cross-validation is a statistical concept and technique used in machine learning. It involves dividing the data set into subsets for training and testing the model multiple times. The average performance is used to assess the model's quality before finalizing it.\",\n",
      "      \"Score\": 5\n",
      "    },\n",
      "    {\n",
      "      \"Question\": \"What is the bias-variance tradeoff?\",\n",
      "      \"Answer\": \"The bias-variance tradeoff is the balance between a model's ability to capture underlying patterns in the data (bias) and its sensitivity to fluctuations in the training data (variance). A high bias model is simplistic and underfits, while a high variance model fits the training data too closely and overfits. The optimal model complexity maximizes bias and variance for optimal predictive performance on unseen data.\",\n",
      "      \"Score\": 5\n",
      "    },\n",
      "    {\n",
      "      \"Question\": \"What is feature engineering?\",\n",
      "      \"Answer\": \"Feature engineering is the process of selecting, transforming, and creating relevant features from raw data to improve the performance of machine learning models. Good feature engineering leads to a model that can learn patterns and make accurate predictions.\",\n",
      "      \"Score\": 5\n",
      "    },\n",
      "    {\n",
      "      \"Question\": \"What is the difference between bagging and boosting?\",\n",
      "      \"Answer\": \"Bagging involves training multiple instances of learning algorithms on different subsets of the training data and averaging their predictions. Boosting focuses on sequentially learning multiple instances of an algorithm, where each new model corrects the errors made by the previous one. Examples of boosting algorithms include AdaBoost and Gradient Boosting.\",\n",
      "      \"Score\": 4\n",
      "    },\n",
      "    {\n",
      "      \"Question\": \"What is deep learning?\",\n",
      "      \"Answer\": \"Deep learning is a subset of machine learning that deals with neural networks containing many layers, called deep neural networks. These networks are capable of learning complex patterns from a large amount of data, and have been successfully applied to tasks like image and speech recognition.\",\n",
      "      \"Score\": 5\n",
      "    },\n",
      "    {\n",
      "      \"Question\": \"Explain activation functions in neural networks.\",\n",
      "      \"Answer\": \"Activation functions are used as nonlinearities in neural networks to allow them to learn complex patterns. Common activation functions include sigmoid, tanh, relu, and softmax. Sigmoid maps input values to a range of [0, 1]. Tanh maps input values to a range of [-1, 1]. Softmax is used for multiclass classification problems, converting raw scores to probabilities.\",\n",
      "      \"Score\": 5\n",
      "    },\n",
      "    {\n",
      "      \"Question\": \"Explain gradient descent.\",\n",
      "      \"Answer\": \"Gradient descent is an optimization algorithm used to maximize the cost function in machine learning. It works by iteratively moving in the direction of steepest descent on the cost function with respect to the model's parameters. This process is repeated until convergence to a minimum, such as the global minima, resulting in the best-fitted model parameters.\",\n",
      "      \"Score\": 5\n",
      "    },\n",
      "    {\n",
      "      \"Question\": \"What is your availability for further discussion?\",\n",
      "      \"Answer\": \"Mallikarjun Yadav Etaboina is available for further discussion.\",\n",
      "      \"Score\": 5\n",
      "    }\n",
      "  ],\n",
      "  \"Feedback\": \"Mallikarjun Yadav Etaboina performed well in the interview and demonstrated good knowledge of machine learning concepts. He has a strong background in the field with relevant experience. His answers to the questions were accurate and showed a deep understanding of the topics discussed. Mallikarjun Yadav Etaboina is recommended for the Data Scientist position.\"\n",
      "}\n"
     ]
    }
   ],
   "source": [
    "import openai\n",
    "\n",
    "#prompt = f\"\"\"ChatGPT, Give me the Details of interview minutes of meeting on conversation which include the (candidate name, Recruiter name same as Interviewer name, job title, job level, Recommendation, summary justification), Don't hallocinate if you don't know. Provide me the Information on Interviewer Questions and Interviewee Answers, for each skill give the candidate score from 1 to 5.\"\"\" + chat_conversation\n",
    "\n",
    "# Set your OpenAI API key here\n",
    "openai.api_key = \"0eb4ce717f404f66b70f809817ebd172\"\n",
    "openai.api_type = \"azure\"\n",
    "openai.api_base = \"https://rtappopenai.openai.azure.com/\"\n",
    "openai.api_version = \"2023-07-01-preview\"\n",
    "# Extracted text from the DOCX file\n",
    "#extracted_text = \"Your extracted text goes here...\"\n",
    "\n",
    "# Generate a summary using OpenAI API\n",
    "response = openai.ChatCompletion.create(\n",
    "    deployment_id=\"gpt-35-turbo-16k\",\n",
    "    #prompt=prompt,\n",
    "    messages = [{\"role\":\"user\",\"content\":prompt}]\n",
    ")\n",
    "print(response.choices[0]['message'][\"content\"]\n",
    ")\n",
    "\n"
   ]
  }
 ],
 "metadata": {
  "kernelspec": {
   "display_name": "trans_venv",
   "language": "python",
   "name": "python3"
  },
  "language_info": {
   "codemirror_mode": {
    "name": "ipython",
    "version": 3
   },
   "file_extension": ".py",
   "mimetype": "text/x-python",
   "name": "python",
   "nbconvert_exporter": "python",
   "pygments_lexer": "ipython3",
   "version": "3.8.0"
  },
  "orig_nbformat": 4
 },
 "nbformat": 4,
 "nbformat_minor": 2
}
